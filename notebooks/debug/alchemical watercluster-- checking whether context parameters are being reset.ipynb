{
 "cells": [
  {
   "cell_type": "code",
   "execution_count": 72,
   "metadata": {},
   "outputs": [
    {
     "name": "stdout",
     "output_type": "stream",
     "text": [
      "openmmtools version: 0.15.0\n",
      "openmm version: 7.3.0.dev-5387707\n"
     ]
    }
   ],
   "source": [
    "from openmmtools.testsystems import WaterCluster\n",
    "testsystem = WaterCluster()\n",
    "\n",
    "import numpy as np\n",
    "import openmmtools\n",
    "from openmmtools.constants import kB\n",
    "from simtk import openmm as mm\n",
    "from simtk.openmm import app\n",
    "from tqdm import tqdm\n",
    "\n",
    "# Versions helpful for debugging\n",
    "print('openmmtools version: {}'.format(openmmtools.version.full_version))\n",
    "print('openmm version: {}'.format(mm.version.full_version))\n",
    "\n",
    "# Set some global variables\n",
    "from simtk import unit\n",
    "temperature = 298 * unit.kelvin\n",
    "beta = 1.0 / (kB * temperature)\n",
    "\n",
    "timestep = 2.0 * unit.femtosecond\n",
    "temperature = 298 * unit.kelvin\n",
    "\n",
    "integrator = openmmtools.integrators.BAOABIntegrator(\n",
    "        measure_heat=False,\n",
    "        measure_shadow_work=False,\n",
    "        collision_rate=1.0 / unit.picoseconds,\n",
    "        timestep=timestep,\n",
    "        temperature=temperature,\n",
    "    )\n",
    "\n",
    "sim = app.Simulation(testsystem.topology, testsystem.system, integrator,\n",
    "                 platform=mm.Platform.getPlatformByName(\"Reference\"))"
   ]
  },
  {
   "cell_type": "code",
   "execution_count": 73,
   "metadata": {},
   "outputs": [],
   "source": [
    "sim.context.setPositions(testsystem.positions)\n",
    "sim.context.setVelocitiesToTemperature(temperature)"
   ]
  },
  {
   "cell_type": "code",
   "execution_count": 74,
   "metadata": {},
   "outputs": [
    {
     "name": "stdout",
     "output_type": "stream",
     "text": [
      "CPU times: user 6.35 ms, sys: 1.32 ms, total: 7.67 ms\n",
      "Wall time: 6.23 ms\n"
     ]
    }
   ],
   "source": [
    "%%time\n",
    "sim.step(1)"
   ]
  },
  {
   "cell_type": "code",
   "execution_count": 75,
   "metadata": {},
   "outputs": [
    {
     "name": "stdout",
     "output_type": "stream",
     "text": [
      "CPU times: user 1.9 ms, sys: 878 µs, total: 2.78 ms\n",
      "Wall time: 1.45 ms\n"
     ]
    }
   ],
   "source": [
    "%%time\n",
    "sim.step(1)"
   ]
  },
  {
   "cell_type": "code",
   "execution_count": 76,
   "metadata": {},
   "outputs": [],
   "source": [
    "sim.step(1000)"
   ]
  },
  {
   "cell_type": "code",
   "execution_count": 77,
   "metadata": {},
   "outputs": [
    {
     "name": "stderr",
     "output_type": "stream",
     "text": [
      "100%|██████████| 100/100 [01:31<00:00,  1.09it/s]\n"
     ]
    }
   ],
   "source": [
    "from tqdm import tqdm\n",
    "samples = []\n",
    "for _ in tqdm(range(100)):\n",
    "    sim.step(1000)\n",
    "    samples.append(sim.context.getState(getPositions=True).getPositions(asNumpy=True))"
   ]
  },
  {
   "cell_type": "code",
   "execution_count": 78,
   "metadata": {},
   "outputs": [
    {
     "data": {
      "text/plain": [
       "(Quantity(value=array([0.246546648181693, 0.255607555877178, 0.25325697336242 ]), unit=nanometer),\n",
       " Quantity(value=array([0.374599732286267, 0.506091638308804, 0.200131265432709]), unit=nanometer))"
      ]
     },
     "execution_count": 78,
     "metadata": {},
     "output_type": "execute_result"
    }
   ],
   "source": [
    "samples[0].std(0), samples[-1].std(0)"
   ]
  },
  {
   "cell_type": "code",
   "execution_count": 79,
   "metadata": {},
   "outputs": [],
   "source": [
    "sample_cache = samples"
   ]
  },
  {
   "cell_type": "code",
   "execution_count": 80,
   "metadata": {},
   "outputs": [],
   "source": [
    "from openmmtools.alchemy import AlchemicalRegion, AbsoluteAlchemicalFactory\n",
    "region = AlchemicalRegion(alchemical_atoms=range(3))\n",
    "factory = AbsoluteAlchemicalFactory()\n",
    "alchemical_system = factory.create_alchemical_system(testsystem.system, region)\n",
    "testsystem.system = alchemical_system"
   ]
  },
  {
   "cell_type": "code",
   "execution_count": 81,
   "metadata": {},
   "outputs": [],
   "source": [
    "timestep = 2 * unit.femtosecond\n",
    "n_switching_steps = 3\n",
    "\n",
    "integrator = openmmtools.integrators.AlchemicalNonequilibriumLangevinIntegrator(\n",
    "    alchemical_functions={'lambda_electrostatics': '1-lambda',\n",
    "                          'lambda_sterics': '1-lambda'\n",
    "                         },\n",
    "    splitting='V R O R V H',\n",
    "    measure_heat=True,\n",
    "    measure_shadow_work=False,\n",
    "    nsteps_neq=n_switching_steps,\n",
    "    collision_rate=1.0 / unit.picoseconds,\n",
    "    timestep=timestep,\n",
    "    temperature=temperature,\n",
    ")\n",
    "\n",
    "alch_sim = app.Simulation(testsystem.topology, testsystem.system, integrator,\n",
    "                     platform=mm.Platform.getPlatformByName(\"Reference\"))\n",
    "\n",
    "alch_sim.context.setPositions(testsystem.positions)\n",
    "alch_sim.context.setVelocitiesToTemperature(temperature)"
   ]
  },
  {
   "cell_type": "code",
   "execution_count": 82,
   "metadata": {},
   "outputs": [],
   "source": [
    "parameter_names = list(alch_sim.context.getParameters())[:2]"
   ]
  },
  {
   "cell_type": "code",
   "execution_count": 83,
   "metadata": {},
   "outputs": [
    {
     "name": "stdout",
     "output_type": "stream",
     "text": [
      "step:  0\n",
      "lambda_electrostatics 1.0\n",
      "lambda_sterics 1.0\n",
      "\n",
      "step:  1\n",
      "lambda_electrostatics 0.6666666666666667\n",
      "lambda_sterics 0.6666666666666667\n",
      "\n",
      "step:  2\n",
      "lambda_electrostatics 0.33333333333333337\n",
      "lambda_sterics 0.33333333333333337\n",
      "\n",
      "step:  3\n",
      "lambda_electrostatics 0.0\n",
      "lambda_sterics 0.0\n",
      "\n",
      "step:  4\n",
      "lambda_electrostatics 0.0\n",
      "lambda_sterics 0.0\n",
      "\n"
     ]
    }
   ],
   "source": [
    "for i in range(5):\n",
    "    print('step: ', i)\n",
    "    for name in parameter_names:\n",
    "        print(name, alch_sim.context.getParameter(name))\n",
    "    \n",
    "    alch_sim.step(1)\n",
    "    print()"
   ]
  },
  {
   "cell_type": "code",
   "execution_count": 84,
   "metadata": {},
   "outputs": [
    {
     "name": "stdout",
     "output_type": "stream",
     "text": [
      "lambda_electrostatics 0.0\n",
      "lambda_sterics 0.0\n"
     ]
    }
   ],
   "source": [
    "alch_sim.integrator.reset()\n",
    "\n",
    "for name in parameter_names:\n",
    "    print(name, alch_sim.context.getParameter(name))"
   ]
  },
  {
   "cell_type": "code",
   "execution_count": 85,
   "metadata": {},
   "outputs": [
    {
     "name": "stdout",
     "output_type": "stream",
     "text": [
      "lambda_electrostatics 0.0\n",
      "lambda_sterics 0.0\n"
     ]
    }
   ],
   "source": [
    "alch_sim.integrator.setGlobalVariableByName('lambda', 0)\n",
    "alch_sim.integrator.setGlobalVariableByName('lambda_step', 0)\n",
    "\n",
    "for name in parameter_names:\n",
    "    print(name, alch_sim.context.getParameter(name))"
   ]
  },
  {
   "cell_type": "code",
   "execution_count": 86,
   "metadata": {},
   "outputs": [
    {
     "name": "stdout",
     "output_type": "stream",
     "text": [
      "step:  0\n",
      "lambda_electrostatics 0.0\n",
      "lambda_sterics 0.0\n",
      "\n",
      "step:  1\n",
      "lambda_electrostatics 0.6666666666666667\n",
      "lambda_sterics 0.6666666666666667\n",
      "\n",
      "step:  2\n",
      "lambda_electrostatics 0.33333333333333337\n",
      "lambda_sterics 0.33333333333333337\n",
      "\n",
      "step:  3\n",
      "lambda_electrostatics 0.0\n",
      "lambda_sterics 0.0\n",
      "\n",
      "step:  4\n",
      "lambda_electrostatics 0.0\n",
      "lambda_sterics 0.0\n",
      "\n"
     ]
    }
   ],
   "source": [
    "for i in range(5):\n",
    "    print('step: ', i)\n",
    "    for name in parameter_names:\n",
    "        print(name, alch_sim.context.getParameter(name))\n",
    "    \n",
    "    alch_sim.step(1)\n",
    "    print()"
   ]
  },
  {
   "cell_type": "code",
   "execution_count": 87,
   "metadata": {},
   "outputs": [
    {
     "name": "stdout",
     "output_type": "stream",
     "text": [
      "step:  0\n",
      "lambda_electrostatics 1.0\n",
      "lambda_sterics 1.0\n",
      "\n",
      "step:  1\n",
      "lambda_electrostatics 0.6666666666666667\n",
      "lambda_sterics 0.6666666666666667\n",
      "\n",
      "step:  2\n",
      "lambda_electrostatics 0.33333333333333337\n",
      "lambda_sterics 0.33333333333333337\n",
      "\n",
      "step:  3\n",
      "lambda_electrostatics 0.0\n",
      "lambda_sterics 0.0\n",
      "\n",
      "step:  4\n",
      "lambda_electrostatics 0.0\n",
      "lambda_sterics 0.0\n",
      "\n"
     ]
    }
   ],
   "source": [
    "alch_sim.integrator.reset()\n",
    "alch_sim.integrator.setGlobalVariableByName('lambda', 0)\n",
    "alch_sim.integrator.setGlobalVariableByName('lambda_step', 0)\n",
    "alch_sim.context.setParameter('lambda_electrostatics', 1.0)\n",
    "alch_sim.context.setParameter('lambda_sterics', 1.0)\n",
    "\n",
    "for i in range(5):\n",
    "    print('step: ', i)\n",
    "    for name in parameter_names:\n",
    "        print(name, alch_sim.context.getParameter(name))\n",
    "    \n",
    "    alch_sim.step(1)\n",
    "    print()"
   ]
  },
  {
   "cell_type": "markdown",
   "metadata": {},
   "source": [
    "```\n",
    "The context parameters created are:\n",
    " |  - softcore_alpha: factor controlling softcore lengthscale for Lennard-Jones\n",
    " |  - softcore_beta: factor controlling softcore lengthscale for Coulomb\n",
    " |  - softcore_a: softcore Lennard-Jones parameter from Eq. 13 of Ref [1]\n",
    " |  - softcore_b: softcore Lennard-Jones parameter from Eq. 13 of Ref [1]\n",
    " |  - softcore_c: softcore Lennard-Jones parameter from Eq. 13 of Ref [1]\n",
    " |  - softcore_d: softcore electrostatics parameter\n",
    " |  - softcore_e: softcore electrostatics parameter\n",
    " |  - softcore_f: softcore electrostatics parameter```"
   ]
  },
  {
   "cell_type": "code",
   "execution_count": 88,
   "metadata": {},
   "outputs": [],
   "source": [
    "#n_samples = 1000\n",
    "n_samples = 100\n",
    "\n",
    "## Use pre-generated samples from the 298K ensemble with HBonds constrained\n",
    "#import mdtraj as md\n",
    "#samples = md.load('water_cluster_constrained_samples.h5')\n",
    "#sample_cache = samples.xyz * unit.nanometer\n",
    "\n",
    "# Define what will be variable during the experiments\n",
    "splittings = {'VVVR (OVR-H-RVO)': 'O V R H R V O',\n",
    "              'BAOAB-mid (VRO-H-RV)': 'V R O H R V',\n",
    "              'BAOAB-end (VRORV-H)': 'V R O R V H',\n",
    "              # 'velocity-verlet-mid (VR-H-RV)': 'V R H R V', # requires to disable LangevinIntegrator splitting checks\n",
    "              # 'velocity-verlet-end (VRV-H)': 'V R V H', # requires to disable LangevinIntegrator splitting checks\n",
    "              }\n",
    "\n",
    "\n",
    "from collections import namedtuple\n",
    "Condition = namedtuple('Condition', ['timestep', 'switching_time', 'n_switching_steps', 'splitting'])\n",
    "\n",
    "def collect_samples_at_condition(condition):\n",
    "    print(condition)\n",
    "\n",
    "    timestep = condition.timestep\n",
    "    n_switching_steps = condition.n_switching_steps\n",
    "    splitting = splittings[condition.splitting]\n",
    "\n",
    "    integrator = openmmtools.integrators.AlchemicalNonequilibriumLangevinIntegrator(\n",
    "        alchemical_functions={'lambda_electrostatics': '1-lambda',\n",
    "                              'lambda_sterics': '1-lambda'\n",
    "                             },\n",
    "        splitting=splitting,\n",
    "        measure_heat=True,\n",
    "        measure_shadow_work=False,\n",
    "        nsteps_neq=n_switching_steps,\n",
    "        collision_rate=1.0 / unit.picoseconds,\n",
    "        timestep=timestep,\n",
    "        temperature=temperature,\n",
    "    )\n",
    "\n",
    "    sim = app.Simulation(testsystem.topology, testsystem.system, integrator,\n",
    "                         platform=mm.Platform.getPlatformByName(\"Reference\"))\n",
    "\n",
    "    # store in reduced units...\n",
    "    w_shads = np.zeros(n_samples)\n",
    "    w_prots = np.zeros(n_samples)\n",
    "    w_tots = np.zeros(n_samples)\n",
    "    reduced_DeltaEs = np.zeros(n_samples)\n",
    "\n",
    "    for i in tqdm(range(n_samples + 1)):\n",
    "        if i >= 1: i -= 1 # discard first sample\n",
    "\n",
    "        # set initial (x,v) from equilibrium\n",
    "        x0 = sample_cache[np.random.randint(len(sample_cache))]\n",
    "        sim.context.setPositions(x0)\n",
    "        sim.context.setVelocitiesToTemperature(temperature)\n",
    "\n",
    "        # reset the relevant integrator state\n",
    "        sim.integrator.reset()\n",
    "        sim.integrator.setGlobalVariableByName('lambda', 0)\n",
    "        sim.integrator.setGlobalVariableByName('lambda_step', 0)\n",
    "        sim.context.setParameter('lambda_electrostatics', 1.0)\n",
    "        sim.context.setParameter('lambda_sterics', 1.0)\n",
    "\n",
    "\n",
    "        # get the total energy before switching\n",
    "        state_0 = sim.context.getState(getEnergy=True)\n",
    "        E_0 = state_0.getPotentialEnergy() + state_0.getKineticEnergy()\n",
    "\n",
    "        # perform switching\n",
    "        sim.step(n_switching_steps)\n",
    "\n",
    "        # get the total energy change\n",
    "        state_1 = sim.context.getState(getEnergy=True)\n",
    "        E_1 = state_1.getPotentialEnergy() + state_1.getKineticEnergy()\n",
    "        DeltaE = (E_1 - E_0)\n",
    "        reduced_DeltaEs[i] = beta * DeltaE\n",
    "\n",
    "        # get the heat and protocol work, derive total work, shadow work\n",
    "        W_prot = integrator.get_protocol_work()\n",
    "        w_prots[i] = beta * W_prot\n",
    "\n",
    "        Q = integrator.get_heat()\n",
    "\n",
    "        w_tots[i] = beta * (DeltaE - Q + W_prot)\n",
    "        w_shads[i] = w_tots[i] - w_prots[i]\n",
    "\n",
    "    result = {'w_shads': w_shads,\n",
    "              'w_tots': w_tots,\n",
    "              'w_prots': w_prots,\n",
    "              'reduced_DeltaEs': reduced_DeltaEs\n",
    "              }\n",
    "    return result\n",
    "\n",
    "\n",
    "def save_result(experiment_id, condition, result):\n",
    "    from pickle import dump\n",
    "    fname = str(experiment_id) + '.pkl'\n",
    "    with open(fname, 'wb') as f:\n",
    "        dump({'condition': condition, 'result': result}, f)"
   ]
  },
  {
   "cell_type": "code",
   "execution_count": null,
   "metadata": {},
   "outputs": [],
   "source": []
  },
  {
   "cell_type": "code",
   "execution_count": 89,
   "metadata": {},
   "outputs": [
    {
     "name": "stdout",
     "output_type": "stream",
     "text": [
      "Condition(timestep=Quantity(value=0.5, unit=femtosecond), switching_time=Quantity(value=1.0, unit=picosecond), n_switching_steps=2000, splitting='BAOAB-end (VRORV-H)')\n",
      "Condition(timestep=Quantity(value=1.0, unit=femtosecond), switching_time=Quantity(value=1.0, unit=picosecond), n_switching_steps=1000, splitting='BAOAB-end (VRORV-H)')\n",
      "Condition(timestep=Quantity(value=1.5, unit=femtosecond), switching_time=Quantity(value=1.0, unit=picosecond), n_switching_steps=666, splitting='BAOAB-end (VRORV-H)')\n",
      "Condition(timestep=Quantity(value=2.0, unit=femtosecond), switching_time=Quantity(value=1.0, unit=picosecond), n_switching_steps=500, splitting='BAOAB-end (VRORV-H)')\n",
      "Condition(timestep=Quantity(value=2.5, unit=femtosecond), switching_time=Quantity(value=1.0, unit=picosecond), n_switching_steps=400, splitting='BAOAB-end (VRORV-H)')\n",
      "Condition(timestep=Quantity(value=3.0, unit=femtosecond), switching_time=Quantity(value=1.0, unit=picosecond), n_switching_steps=333, splitting='BAOAB-end (VRORV-H)')\n",
      "Condition(timestep=Quantity(value=3.5, unit=femtosecond), switching_time=Quantity(value=1.0, unit=picosecond), n_switching_steps=285, splitting='BAOAB-end (VRORV-H)')\n",
      "Condition(timestep=Quantity(value=4.0, unit=femtosecond), switching_time=Quantity(value=1.0, unit=picosecond), n_switching_steps=250, splitting='BAOAB-end (VRORV-H)')\n"
     ]
    }
   ],
   "source": [
    "switching_time = 1.0 * unit.picosecond\n",
    "timesteps = np.array([0.5,1.0,1.5,2.0,2.5,3.0,3.5,4.0]) * unit.femtosecond\n",
    "conditions = []\n",
    "for timestep in timesteps:\n",
    "    n_switching_steps = int(switching_time / timestep)\n",
    "\n",
    "    condition = Condition(timestep=timestep,\n",
    "                    switching_time=switching_time,\n",
    "                    n_switching_steps=n_switching_steps,\n",
    "                    splitting='BAOAB-end (VRORV-H)')\n",
    "    print(condition)\n",
    "    conditions.append(condition)"
   ]
  },
  {
   "cell_type": "code",
   "execution_count": 91,
   "metadata": {},
   "outputs": [
    {
     "data": {
      "text/plain": [
       "('BAOAB-end (VRORV-H)', 'V R O R V H')"
      ]
     },
     "execution_count": 91,
     "metadata": {},
     "output_type": "execute_result"
    }
   ],
   "source": [
    "condition.splitting, splittings[condition.splitting]"
   ]
  },
  {
   "cell_type": "code",
   "execution_count": 92,
   "metadata": {
    "scrolled": true
   },
   "outputs": [
    {
     "name": "stderr",
     "output_type": "stream",
     "text": [
      "\r",
      "  0%|          | 0/101 [00:00<?, ?it/s]"
     ]
    },
    {
     "name": "stdout",
     "output_type": "stream",
     "text": [
      "Condition(timestep=Quantity(value=4.0, unit=femtosecond), switching_time=Quantity(value=1.0, unit=picosecond), n_switching_steps=250, splitting='BAOAB-end (VRORV-H)')\n"
     ]
    },
    {
     "name": "stderr",
     "output_type": "stream",
     "text": [
      "100%|██████████| 101/101 [03:52<00:00,  2.30s/it]\n",
      "  0%|          | 0/101 [00:00<?, ?it/s]"
     ]
    },
    {
     "name": "stdout",
     "output_type": "stream",
     "text": [
      "Condition(timestep=Quantity(value=3.5, unit=femtosecond), switching_time=Quantity(value=1.0, unit=picosecond), n_switching_steps=285, splitting='BAOAB-end (VRORV-H)')\n"
     ]
    },
    {
     "name": "stderr",
     "output_type": "stream",
     "text": [
      "100%|██████████| 101/101 [04:23<00:00,  2.61s/it]\n",
      "  0%|          | 0/101 [00:00<?, ?it/s]"
     ]
    },
    {
     "name": "stdout",
     "output_type": "stream",
     "text": [
      "Condition(timestep=Quantity(value=3.0, unit=femtosecond), switching_time=Quantity(value=1.0, unit=picosecond), n_switching_steps=333, splitting='BAOAB-end (VRORV-H)')\n"
     ]
    },
    {
     "name": "stderr",
     "output_type": "stream",
     "text": [
      "100%|██████████| 101/101 [05:03<00:00,  3.00s/it]\n",
      "  0%|          | 0/101 [00:00<?, ?it/s]"
     ]
    },
    {
     "name": "stdout",
     "output_type": "stream",
     "text": [
      "Condition(timestep=Quantity(value=2.5, unit=femtosecond), switching_time=Quantity(value=1.0, unit=picosecond), n_switching_steps=400, splitting='BAOAB-end (VRORV-H)')\n"
     ]
    },
    {
     "name": "stderr",
     "output_type": "stream",
     "text": [
      "100%|██████████| 101/101 [06:09<00:00,  3.66s/it]\n",
      "  0%|          | 0/101 [00:00<?, ?it/s]"
     ]
    },
    {
     "name": "stdout",
     "output_type": "stream",
     "text": [
      "Condition(timestep=Quantity(value=2.0, unit=femtosecond), switching_time=Quantity(value=1.0, unit=picosecond), n_switching_steps=500, splitting='BAOAB-end (VRORV-H)')\n"
     ]
    },
    {
     "name": "stderr",
     "output_type": "stream",
     "text": [
      "100%|██████████| 101/101 [07:34<00:00,  4.50s/it]\n",
      "  0%|          | 0/101 [00:00<?, ?it/s]"
     ]
    },
    {
     "name": "stdout",
     "output_type": "stream",
     "text": [
      "Condition(timestep=Quantity(value=1.5, unit=femtosecond), switching_time=Quantity(value=1.0, unit=picosecond), n_switching_steps=666, splitting='BAOAB-end (VRORV-H)')\n"
     ]
    },
    {
     "name": "stderr",
     "output_type": "stream",
     "text": [
      "100%|██████████| 101/101 [10:08<00:00,  6.02s/it]\n",
      "  0%|          | 0/101 [00:00<?, ?it/s]"
     ]
    },
    {
     "name": "stdout",
     "output_type": "stream",
     "text": [
      "Condition(timestep=Quantity(value=1.0, unit=femtosecond), switching_time=Quantity(value=1.0, unit=picosecond), n_switching_steps=1000, splitting='BAOAB-end (VRORV-H)')\n"
     ]
    },
    {
     "name": "stderr",
     "output_type": "stream",
     "text": [
      "100%|██████████| 101/101 [15:07<00:00,  8.99s/it]\n",
      "  0%|          | 0/101 [00:00<?, ?it/s]"
     ]
    },
    {
     "name": "stdout",
     "output_type": "stream",
     "text": [
      "Condition(timestep=Quantity(value=0.5, unit=femtosecond), switching_time=Quantity(value=1.0, unit=picosecond), n_switching_steps=2000, splitting='BAOAB-end (VRORV-H)')\n"
     ]
    },
    {
     "name": "stderr",
     "output_type": "stream",
     "text": [
      "100%|██████████| 101/101 [30:06<00:00, 17.89s/it]\n"
     ]
    }
   ],
   "source": [
    "results = []\n",
    "for experiment_id, condition in enumerate(conditions[::-1]):\n",
    "    result = collect_samples_at_condition(condition)\n",
    "    results.append(result)\n",
    "    save_result(experiment_id=experiment_id, condition=condition, result=result)\n",
    "results = results[::-1]"
   ]
  },
  {
   "cell_type": "code",
   "execution_count": 93,
   "metadata": {},
   "outputs": [
    {
     "data": {
      "text/plain": [
       "dict_keys(['w_shads', 'w_tots', 'w_prots', 'reduced_DeltaEs'])"
      ]
     },
     "execution_count": 93,
     "metadata": {},
     "output_type": "execute_result"
    }
   ],
   "source": [
    "result.keys()"
   ]
  },
  {
   "cell_type": "code",
   "execution_count": 94,
   "metadata": {
    "scrolled": false
   },
   "outputs": [
    {
     "data": {
      "image/png": "[encoded data removed]",
      "text/plain": [
       "<matplotlib.figure.Figure at 0x11f2b4eb8>"
      ]
     },
     "metadata": {},
     "output_type": "display_data"
    },
    {
     "data": {
      "image/png": "[encoded data removed]",
      "text/plain": [
       "<matplotlib.figure.Figure at 0x1230ab5c0>"
      ]
     },
     "metadata": {},
     "output_type": "display_data"
    },
    {
     "data": {
      "image/png": "[encoded data removed]",
      "text/plain": [
       "<matplotlib.figure.Figure at 0x123117be0>"
      ]
     },
     "metadata": {},
     "output_type": "display_data"
    },
    {
     "data": {
      "image/png": "[encoded data removed]",
      "text/plain": [
       "<matplotlib.figure.Figure at 0x123191d68>"
      ]
     },
     "metadata": {},
     "output_type": "display_data"
    },
    {
     "data": {
      "image/png": "[encoded data removed]",
      "text/plain": [
       "<matplotlib.figure.Figure at 0x123201438>"
      ]
     },
     "metadata": {},
     "output_type": "display_data"
    },
    {
     "data": {
      "image/png": "[encoded data removed]",
      "text/plain": [
       "<matplotlib.figure.Figure at 0x123273fd0>"
      ]
     },
     "metadata": {},
     "output_type": "display_data"
    },
    {
     "data": {
      "image/png": "[encoded data removed]",
      "text/plain": [
       "<matplotlib.figure.Figure at 0x121f376a0>"
      ]
     },
     "metadata": {},
     "output_type": "display_data"
    },
    {
     "data": {
      "image/png": "[encoded data removed]",
      "text/plain": [
       "<matplotlib.figure.Figure at 0x1223d1400>"
      ]
     },
     "metadata": {},
     "output_type": "display_data"
    }
   ],
   "source": [
    "import matplotlib.pyplot as plt\n",
    "%matplotlib inline\n",
    "\n",
    "for i, result in enumerate(results):\n",
    "    plt.figure()\n",
    "    plt.title(timesteps[i])\n",
    "    plt.scatter(result['w_shads'][1:], result['w_prots'][1:])\n",
    "    plt.xlabel(r'$w_{shadow}$')\n",
    "    plt.ylabel(r'$w_{protocol}$')"
   ]
  },
  {
   "cell_type": "code",
   "execution_count": 95,
   "metadata": {},
   "outputs": [
    {
     "name": "stdout",
     "output_type": "stream",
     "text": [
      "Condition(timestep=Quantity(value=0.5, unit=femtosecond), switching_time=Quantity(value=1.0, unit=picosecond), n_switching_steps=2000, splitting='BAOAB-end (VRORV-H)')\n",
      "\t# NaNs: 26\n",
      "\n",
      "Condition(timestep=Quantity(value=1.0, unit=femtosecond), switching_time=Quantity(value=1.0, unit=picosecond), n_switching_steps=1000, splitting='BAOAB-end (VRORV-H)')\n",
      "\t# NaNs: 35\n",
      "\n",
      "Condition(timestep=Quantity(value=1.5, unit=femtosecond), switching_time=Quantity(value=1.0, unit=picosecond), n_switching_steps=666, splitting='BAOAB-end (VRORV-H)')\n",
      "\t# NaNs: 43\n",
      "\n",
      "Condition(timestep=Quantity(value=2.0, unit=femtosecond), switching_time=Quantity(value=1.0, unit=picosecond), n_switching_steps=500, splitting='BAOAB-end (VRORV-H)')\n",
      "\t# NaNs: 57\n",
      "\n",
      "Condition(timestep=Quantity(value=2.5, unit=femtosecond), switching_time=Quantity(value=1.0, unit=picosecond), n_switching_steps=400, splitting='BAOAB-end (VRORV-H)')\n",
      "\t# NaNs: 65\n",
      "\n",
      "Condition(timestep=Quantity(value=3.0, unit=femtosecond), switching_time=Quantity(value=1.0, unit=picosecond), n_switching_steps=333, splitting='BAOAB-end (VRORV-H)')\n",
      "\t# NaNs: 76\n",
      "\n",
      "Condition(timestep=Quantity(value=3.5, unit=femtosecond), switching_time=Quantity(value=1.0, unit=picosecond), n_switching_steps=285, splitting='BAOAB-end (VRORV-H)')\n",
      "\t# NaNs: 83\n",
      "\n",
      "Condition(timestep=Quantity(value=4.0, unit=femtosecond), switching_time=Quantity(value=1.0, unit=picosecond), n_switching_steps=250, splitting='BAOAB-end (VRORV-H)')\n",
      "\t# NaNs: 82\n",
      "\n"
     ]
    }
   ],
   "source": [
    "for i, result in enumerate(results):\n",
    "    print(conditions[i])\n",
    "    print('\\t# NaNs: ' + str(int(np.sum(np.isnan(result['w_shads'])))) + '\\n')"
   ]
  },
  {
   "cell_type": "code",
   "execution_count": 96,
   "metadata": {},
   "outputs": [],
   "source": [
    "from pymbar import EXP"
   ]
  },
  {
   "cell_type": "code",
   "execution_count": 97,
   "metadata": {},
   "outputs": [
    {
     "data": {
      "image/png": "[encoded data removed]",
      "text/plain": [
       "<matplotlib.figure.Figure at 0x1223f5828>"
      ]
     },
     "metadata": {},
     "output_type": "display_data"
    }
   ],
   "source": [
    "for result in results:\n",
    "    okay_inds = np.isfinite(result['w_prots'])\n",
    "    plt.hist(result['w_prots'][okay_inds], histtype='stepfilled', alpha=0.1, normed=True)"
   ]
  },
  {
   "cell_type": "code",
   "execution_count": 98,
   "metadata": {},
   "outputs": [],
   "source": [
    "means = []\n",
    "stddevs = []\n",
    "\n",
    "EXP_estimates = []\n",
    "EXP_uncs = []\n",
    "for result in results:\n",
    "    okay_inds = np.isfinite(result['w_prots'])\n",
    "    means.append(result['w_prots'][okay_inds].mean())\n",
    "    stddevs.append(np.std(result['w_prots'][okay_inds]))\n",
    "    \n",
    "    EXP_estimate, EXP_unc = EXP(result['w_prots'][okay_inds])\n",
    "    EXP_estimates.append(EXP_estimate)\n",
    "    EXP_uncs.append(EXP_unc)"
   ]
  },
  {
   "cell_type": "code",
   "execution_count": 99,
   "metadata": {},
   "outputs": [
    {
     "data": {
      "text/plain": [
       "(0, 7.606288796748227)"
      ]
     },
     "execution_count": 99,
     "metadata": {},
     "output_type": "execute_result"
    },
    {
     "data": {
      "image/png": "[encoded data removed]",
      "text/plain": [
       "<matplotlib.figure.Figure at 0x124327128>"
      ]
     },
     "metadata": {},
     "output_type": "display_data"
    },
    {
     "data": {
      "image/png": "[encoded data removed]",
      "text/plain": [
       "<matplotlib.figure.Figure at 0x1243271d0>"
      ]
     },
     "metadata": {},
     "output_type": "display_data"
    }
   ],
   "source": [
    "unitless_timesteps = timesteps / unit.femtoseconds\n",
    "plt.plot(unitless_timesteps, means)\n",
    "plt.xlabel(r'$\\Delta t$ (fs)')\n",
    "plt.ylabel(r'mean($w_{protocol}$)')\n",
    "\n",
    "plt.figure()\n",
    "plt.plot(unitless_timesteps, stddevs)\n",
    "plt.xlabel(r'$\\Delta t$ (fs)')\n",
    "plt.ylabel(r'stddev($w_{protocol}$)')\n",
    "plt.ylim(0,)"
   ]
  },
  {
   "cell_type": "code",
   "execution_count": 100,
   "metadata": {},
   "outputs": [
    {
     "data": {
      "text/plain": [
       "<matplotlib.text.Text at 0x12413bb38>"
      ]
     },
     "execution_count": 100,
     "metadata": {},
     "output_type": "execute_result"
    },
    {
     "data": {
      "image/png": "[encoded data removed]",
      "text/plain": [
       "<matplotlib.figure.Figure at 0x12427cb00>"
      ]
     },
     "metadata": {},
     "output_type": "display_data"
    }
   ],
   "source": [
    "plt.errorbar(unitless_timesteps, EXP_estimates, 1.96 * np.array(EXP_uncs))\n",
    "plt.xlabel(r'$\\Delta t$ (fs)')\n",
    "plt.ylabel(r'EXP-estimate $\\Delta F$')"
   ]
  },
  {
   "cell_type": "code",
   "execution_count": 101,
   "metadata": {},
   "outputs": [
    {
     "data": {
      "text/plain": [
       "(0, 22805.13459709263)"
      ]
     },
     "execution_count": 101,
     "metadata": {},
     "output_type": "execute_result"
    },
    {
     "data": {
      "image/png": "[encoded data removed]",
      "text/plain": [
       "<matplotlib.figure.Figure at 0x1230e0048>"
      ]
     },
     "metadata": {},
     "output_type": "display_data"
    },
    {
     "data": {
      "image/png": "[encoded data removed]",
      "text/plain": [
       "<matplotlib.figure.Figure at 0x1230f6fd0>"
      ]
     },
     "metadata": {},
     "output_type": "display_data"
    }
   ],
   "source": [
    "means = []\n",
    "stddevs = []\n",
    "\n",
    "for result in results:\n",
    "    okay_inds = np.isfinite(result['w_shads'])\n",
    "    means.append(result['w_shads'][okay_inds].mean())\n",
    "    stddevs.append(np.std(result['w_shads'][okay_inds]))\n",
    "    \n",
    "unitless_timesteps = timesteps / unit.femtoseconds\n",
    "plt.plot(unitless_timesteps, means)\n",
    "plt.xlabel(r'$\\Delta t$ (fs)')\n",
    "plt.ylabel(r'mean($w_{shadow}$)')\n",
    "plt.ylim(0,)\n",
    "\n",
    "plt.figure()\n",
    "plt.plot(unitless_timesteps, stddevs)\n",
    "plt.xlabel(r'$\\Delta t$ (fs)')\n",
    "plt.ylabel(r'stddev($w_{shadow}$)')\n",
    "plt.ylim(0,)"
   ]
  },
  {
   "cell_type": "code",
   "execution_count": 108,
   "metadata": {},
   "outputs": [],
   "source": [
    "EXP_estimates = []\n",
    "EXP_uncs = []\n",
    "\n",
    "n_bootstrap_samples = 10000\n",
    "for result in results:\n",
    "    okay_inds = np.isfinite(result['w_prots'])\n",
    "    \n",
    "    EXP_estimate = EXP(result['w_prots'][okay_inds], compute_uncertainty=False)\n",
    "    EXP_estimates.append(EXP_estimate)\n",
    "    \n",
    "    \n",
    "    okay_w_prots = result['w_prots'][okay_inds]\n",
    "    bootstrap_samples = []\n",
    "    for _ in range(n_bootstrap_samples):\n",
    "        inds = np.random.randint(0, len(okay_w_prots), len(okay_w_prots))\n",
    "        bootstrap_samples.append(EXP(okay_w_prots[inds], compute_uncertainty=False))\n",
    "    \n",
    "    EXP_uncs.append(np.std(bootstrap_samples))"
   ]
  },
  {
   "cell_type": "code",
   "execution_count": 109,
   "metadata": {},
   "outputs": [
    {
     "data": {
      "text/plain": [
       "[2.293820194888452,\n",
       " 1.8689493451994186,\n",
       " 5.793452558630408,\n",
       " 4.964430522176831,\n",
       " 1.256821504557181,\n",
       " 2.0764524180900885,\n",
       " 1.4321832521900186,\n",
       " 2.880080688922247]"
      ]
     },
     "execution_count": 109,
     "metadata": {},
     "output_type": "execute_result"
    }
   ],
   "source": [
    "EXP_uncs"
   ]
  },
  {
   "cell_type": "code",
   "execution_count": 110,
   "metadata": {},
   "outputs": [
    {
     "data": {
      "text/plain": [
       "<matplotlib.text.Text at 0x1232b95c0>"
      ]
     },
     "execution_count": 110,
     "metadata": {},
     "output_type": "execute_result"
    },
    {
     "data": {
      "image/png": "[encoded data removed]",
      "text/plain": [
       "<matplotlib.figure.Figure at 0x123169240>"
      ]
     },
     "metadata": {},
     "output_type": "display_data"
    }
   ],
   "source": [
    "plt.errorbar(unitless_timesteps, EXP_estimates, 1.96 * np.array(EXP_uncs))\n",
    "plt.xlabel(r'$\\Delta t$ (fs)')\n",
    "plt.ylabel(r'EXP-estimate $\\Delta F$')"
   ]
  },
  {
   "cell_type": "code",
   "execution_count": 111,
   "metadata": {},
   "outputs": [],
   "source": [
    "from openmmtools.alchemy import AlchemicalRegion, AbsoluteAlchemicalFactory\n",
    "region = AlchemicalRegion(alchemical_atoms=range(3))\n",
    "factory = AbsoluteAlchemicalFactory()\n",
    "alchemical_system = factory.create_alchemical_system(testsystem.system, region)\n",
    "testsystem.system = alchemical_system\n",
    "\n",
    "integrator = openmmtools.integrators.BAOABIntegrator(\n",
    "        measure_heat=False,\n",
    "        measure_shadow_work=False,\n",
    "        collision_rate=1.0 / unit.picoseconds,\n",
    "        timestep=timestep,\n",
    "        temperature=temperature,\n",
    "    )\n",
    "sim = app.Simulation(testsystem.topology, testsystem.system, integrator,\n",
    "                 platform=mm.Platform.getPlatformByName(\"Reference\"))"
   ]
  },
  {
   "cell_type": "code",
   "execution_count": 112,
   "metadata": {},
   "outputs": [],
   "source": [
    "context_parameters = sim.context.getParameters()"
   ]
  },
  {
   "cell_type": "code",
   "execution_count": 113,
   "metadata": {},
   "outputs": [
    {
     "data": {
      "text/plain": [
       "{'lambda_electrostatics': 1.0,\n",
       " 'lambda_sterics': 1.0,\n",
       " 'softcore_a': 1.0,\n",
       " 'softcore_alpha': 0.5,\n",
       " 'softcore_b': 1.0,\n",
       " 'softcore_beta': 0.0,\n",
       " 'softcore_c': 6.0,\n",
       " 'softcore_d': 1.0,\n",
       " 'softcore_e': 1.0,\n",
       " 'softcore_f': 2.0}"
      ]
     },
     "execution_count": 113,
     "metadata": {},
     "output_type": "execute_result"
    }
   ],
   "source": [
    "context_parameters.asdict()"
   ]
  },
  {
   "cell_type": "code",
   "execution_count": 114,
   "metadata": {},
   "outputs": [
    {
     "data": {
      "text/plain": [
       "Quantity(value=2477.7127964236247, unit=joule/mole)"
      ]
     },
     "execution_count": 114,
     "metadata": {},
     "output_type": "execute_result"
    }
   ],
   "source": [
    "kT = kB * temperature\n",
    "kT"
   ]
  },
  {
   "cell_type": "code",
   "execution_count": 115,
   "metadata": {},
   "outputs": [
    {
     "name": "stderr",
     "output_type": "stream",
     "text": [
      "100%|██████████| 100/100 [00:01<00:00, 61.59it/s]\n"
     ]
    }
   ],
   "source": [
    "# what does instantaneous perturbation give us?\n",
    "\n",
    "u_As = []\n",
    "u_Bs = []\n",
    "for sample in tqdm(sample_cache):\n",
    "    sim.context.setPositions(sample)\n",
    "    \n",
    "    # evalutate at lambda = 1\n",
    "    sim.context.setParameter('lambda_electrostatics', 1.0)\n",
    "    sim.context.setParameter('lambda_sterics', 1.0)\n",
    "    u_A = sim.context.getState(getEnergy=True).getPotentialEnergy() / kT\n",
    "    u_As.append(u_A)\n",
    "    \n",
    "    # evaluate at lambda = 0\n",
    "    sim.context.setParameter('lambda_electrostatics', 0.0)\n",
    "    sim.context.setParameter('lambda_sterics', 0.0)\n",
    "    u_B = sim.context.getState(getEnergy=True).getPotentialEnergy() / kT\n",
    "    u_Bs.append(u_B)"
   ]
  },
  {
   "cell_type": "code",
   "execution_count": 116,
   "metadata": {},
   "outputs": [],
   "source": [
    "# that... is very slow..."
   ]
  },
  {
   "cell_type": "code",
   "execution_count": 117,
   "metadata": {},
   "outputs": [],
   "source": [
    "u_As = np.array(u_As)\n",
    "u_Bs = np.array(u_Bs)"
   ]
  },
  {
   "cell_type": "code",
   "execution_count": 118,
   "metadata": {},
   "outputs": [
    {
     "name": "stderr",
     "output_type": "stream",
     "text": [
      "100%|██████████| 1000000/1000000 [00:19<00:00, 50978.58it/s]\n"
     ]
    }
   ],
   "source": [
    "instantaneous_estimates = np.zeros(1000000)\n",
    "for i in tqdm(range(len(instantaneous_estimates))):\n",
    "    inds = np.random.randint(0, len(u_As), len(u_As))\n",
    "    instantaneous_estimates[i] = np.log(np.mean(np.exp(u_As[inds] - u_Bs[inds])))"
   ]
  },
  {
   "cell_type": "code",
   "execution_count": 119,
   "metadata": {},
   "outputs": [
    {
     "data": {
      "image/png": "[encoded data removed]",
      "text/plain": [
       "<matplotlib.figure.Figure at 0x1232dcc88>"
      ]
     },
     "metadata": {},
     "output_type": "display_data"
    }
   ],
   "source": [
    "ax = plt.subplot(1,1,1)\n",
    "plt.hist(instantaneous_estimates, bins=100, normed=True);\n",
    "plt.yticks([])\n",
    "plt.ylabel('probability density')\n",
    "plt.xlabel(r'EXP-estimated $\\Delta F$ ($k_B T$)')\n",
    "ax.spines['top'].set_visible(False)\n",
    "ax.spines['right'].set_visible(False)\n",
    "plt.title('instantaneous perturbation from equilibrium')\n",
    "plt.savefig('bootstrapped.jpg', dpi=300)"
   ]
  },
  {
   "cell_type": "code",
   "execution_count": 120,
   "metadata": {},
   "outputs": [
    {
     "data": {
      "text/plain": [
       "<matplotlib.collections.PathCollection at 0x124271278>"
      ]
     },
     "execution_count": 120,
     "metadata": {},
     "output_type": "execute_result"
    },
    {
     "data": {
      "image/png": "[encoded data removed]",
      "text/plain": [
       "<matplotlib.figure.Figure at 0x1245f27f0>"
      ]
     },
     "metadata": {},
     "output_type": "display_data"
    }
   ],
   "source": [
    "plt.scatter(u_As, u_Bs, s=2)"
   ]
  },
  {
   "cell_type": "code",
   "execution_count": null,
   "metadata": {},
   "outputs": [],
   "source": []
  }
 ],
 "metadata": {
  "kernelspec": {
   "display_name": "Python 3",
   "language": "python",
   "name": "python3"
  },
  "language_info": {
   "codemirror_mode": {
    "name": "ipython",
    "version": 3
   },
   "file_extension": ".py",
   "mimetype": "text/x-python",
   "name": "python",
   "nbconvert_exporter": "python",
   "pygments_lexer": "ipython3",
   "version": "3.6.5"
  }
 },
 "nbformat": 4,
 "nbformat_minor": 2
}
